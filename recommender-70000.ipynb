{
 "cells": [
  {
   "cell_type": "code",
   "execution_count": 1,
   "id": "4a7cca51",
   "metadata": {},
   "outputs": [],
   "source": [
    "#LINK TO AMAZON DATASET: https://nijianmo.github.io/amazon/index.html#sample-metadata"
   ]
  },
  {
   "cell_type": "code",
   "execution_count": 2,
   "id": "df27d4d6",
   "metadata": {},
   "outputs": [],
   "source": [
    "import numpy as np\n",
    "import pandas as pd"
   ]
  },
  {
   "cell_type": "code",
   "execution_count": 3,
   "id": "9662d9f2",
   "metadata": {},
   "outputs": [],
   "source": [
    "from pyspark.sql import SparkSession\n",
    "from pyspark.sql.types import StructField, DoubleType, IntegerType\n",
    "from pyspark.sql import functions as F\n",
    "\n",
    "\n",
    "spark = SparkSession.builder.getOrCreate()\n",
    "spark.conf.set('spark.sql.repl.eagerEval.enabled', True)"
   ]
  },
  {
   "cell_type": "code",
   "execution_count": 4,
   "id": "c27cdd30",
   "metadata": {},
   "outputs": [],
   "source": [
    "df = spark.read.csv('/home/luca/Downloads/ratings_Movies_and_TV.csv')"
   ]
  },
  {
   "cell_type": "code",
   "execution_count": 5,
   "id": "44a35ff1",
   "metadata": {},
   "outputs": [
    {
     "data": {
      "text/plain": [
       "14"
      ]
     },
     "execution_count": 5,
     "metadata": {},
     "output_type": "execute_result"
    }
   ],
   "source": [
    "df.rdd.id()"
   ]
  },
  {
   "cell_type": "code",
   "execution_count": 6,
   "id": "0fe82084",
   "metadata": {},
   "outputs": [
    {
     "data": {
      "text/plain": [
       "StructType(List(StructField(_c0,StringType,true),StructField(_c1,StringType,true),StructField(_c2,StringType,true),StructField(_c3,StringType,true)))"
      ]
     },
     "execution_count": 6,
     "metadata": {},
     "output_type": "execute_result"
    }
   ],
   "source": [
    "df.schema"
   ]
  },
  {
   "cell_type": "code",
   "execution_count": 7,
   "id": "697c31c8",
   "metadata": {},
   "outputs": [
    {
     "data": {
      "text/plain": [
       "[Row(_c0='A17W587EH23J0Q', _c1='B00LT1JHLW', _c2='5.0', _c3='1405641600'),\n",
       " Row(_c0='A3E4Q2YOYCKXON', _c1='B00LT1JHLW', _c2='5.0', _c3='1405987200'),\n",
       " Row(_c0='A1U1UNV1RLCKRL', _c1='B00LT1JHLW', _c2='3.0', _c3='1406073600'),\n",
       " Row(_c0='A14THKG1X8861X', _c1='B00LT1JHLW', _c2='5.0', _c3='1405555200'),\n",
       " Row(_c0='A3DE438TF1A958', _c1='B00LT1JHLW', _c2='5.0', _c3='1405728000'),\n",
       " Row(_c0='AHCV1RTGY3PJ8', _c1='B00LT1JHLW', _c2='5.0', _c3='1405641600'),\n",
       " Row(_c0='A2RWCXDMANY0LW', _c1='B00LT1JHLW', _c2='5.0', _c3='1405987200'),\n",
       " Row(_c0='A3V9PIFRME2XCW', _c1='B00LT1JHLW', _c2='5.0', _c3='1405900800'),\n",
       " Row(_c0='A3ROPC55BE2OM9', _c1='B00LT1JHLW', _c2='5.0', _c3='1405728000'),\n",
       " Row(_c0='A2ARBNMH5Q5YM1', _c1='B00LVGP8EA', _c2='5.0', _c3='1405641600')]"
      ]
     },
     "execution_count": 7,
     "metadata": {},
     "output_type": "execute_result"
    }
   ],
   "source": [
    "df.tail(10)"
   ]
  },
  {
   "cell_type": "code",
   "execution_count": 8,
   "id": "1a7e6bff",
   "metadata": {},
   "outputs": [],
   "source": [
    "#Changing column names - https://stackoverflow.com/questions/34077353/how-to-change-dataframe-column-names-in-pyspark\n",
    "\n",
    "df = df.selectExpr(\"_c0 as ReviewerID\", \"_c1 as ProductID\", \"_c2 as Rating\", \n",
    "                   \"_c3 as unixReviewTime\")"
   ]
  },
  {
   "cell_type": "code",
   "execution_count": 9,
   "id": "6595582b",
   "metadata": {},
   "outputs": [
    {
     "name": "stdout",
     "output_type": "stream",
     "text": [
      "+--------------+----------+------+--------------+\n",
      "|    ReviewerID| ProductID|Rating|unixReviewTime|\n",
      "+--------------+----------+------+--------------+\n",
      "|A3R5OBKS7OM2IR|0000143502|   5.0|    1358380800|\n",
      "|A3R5OBKS7OM2IR|0000143529|   5.0|    1380672000|\n",
      "| AH3QC2PC1VTGP|0000143561|   2.0|    1216252800|\n",
      "|A3LKP6WPMP9UKX|0000143588|   5.0|    1236902400|\n",
      "| AVIY68KEPQ5ZD|0000143588|   5.0|    1232236800|\n",
      "|A1CV1WROP5KTTW|0000589012|   5.0|    1309651200|\n",
      "| AP57WZ2X4G0AA|0000589012|   2.0|    1366675200|\n",
      "|A3NMBJ2LCRCATT|0000589012|   5.0|    1393804800|\n",
      "| A5Y15SAOMX6XA|0000589012|   2.0|    1307404800|\n",
      "|A3P671HJ32TCSF|0000589012|   5.0|    1393718400|\n",
      "|A3VCKTRD24BG7K|0000589012|   5.0|    1378425600|\n",
      "| ANF0AGIV0JCH2|0000589012|   5.0|    1308182400|\n",
      "|A3LDEBLV6MVUBE|0000589012|   5.0|    1208995200|\n",
      "|A1R2XZWQ6NM5M1|0000589012|   5.0|    1224979200|\n",
      "|A36L1XGA5AQIJY|0000589012|   1.0|    1393113600|\n",
      "|A2HWI21H23GDS4|0000589012|   4.0|    1338681600|\n",
      "|A1DNYFL3RSXRMO|0000589012|   5.0|    1208908800|\n",
      "|A39VF226GBM1JH|0000589012|   1.0|    1218412800|\n",
      "| ASB0E2O2FLNA7|0000589012|   5.0|    1322956800|\n",
      "|A19E15Y9V09CVJ|0000589012|   5.0|    1224806400|\n",
      "+--------------+----------+------+--------------+\n",
      "only showing top 20 rows\n",
      "\n"
     ]
    }
   ],
   "source": [
    "#Showing First 20 Rows of Dataset. Items of interest for preprocessing are ReviewerID and ProductID.\n",
    "\n",
    "df.show()"
   ]
  },
  {
   "cell_type": "code",
   "execution_count": 10,
   "id": "91f77c55",
   "metadata": {},
   "outputs": [
    {
     "data": {
      "text/plain": [
       "4607047"
      ]
     },
     "execution_count": 10,
     "metadata": {},
     "output_type": "execute_result"
    }
   ],
   "source": [
    "# MUST FIT INTEGER RANGE: -2147483648 to 2147483647 - https://spark.apache.org/docs/latest/sql-ref-datatypes.html\n",
    "\n",
    "df.count()"
   ]
  },
  {
   "cell_type": "code",
   "execution_count": 11,
   "id": "d1b6f979",
   "metadata": {},
   "outputs": [],
   "source": [
    "# Change the input integer to change the size of the dataset for analysis\n",
    "new_df = df.take(70000)"
   ]
  },
  {
   "cell_type": "code",
   "execution_count": 12,
   "id": "46794545",
   "metadata": {},
   "outputs": [],
   "source": [
    "new_df = spark.createDataFrame(new_df)"
   ]
  },
  {
   "cell_type": "code",
   "execution_count": 13,
   "id": "955af3e7",
   "metadata": {},
   "outputs": [
    {
     "name": "stdout",
     "output_type": "stream",
     "text": [
      "+--------------+----------+------+--------------+\n",
      "|    ReviewerID| ProductID|Rating|unixReviewTime|\n",
      "+--------------+----------+------+--------------+\n",
      "|A3R5OBKS7OM2IR|0000143502|   5.0|    1358380800|\n",
      "|A3R5OBKS7OM2IR|0000143529|   5.0|    1380672000|\n",
      "| AH3QC2PC1VTGP|0000143561|   2.0|    1216252800|\n",
      "|A3LKP6WPMP9UKX|0000143588|   5.0|    1236902400|\n",
      "| AVIY68KEPQ5ZD|0000143588|   5.0|    1232236800|\n",
      "|A1CV1WROP5KTTW|0000589012|   5.0|    1309651200|\n",
      "| AP57WZ2X4G0AA|0000589012|   2.0|    1366675200|\n",
      "|A3NMBJ2LCRCATT|0000589012|   5.0|    1393804800|\n",
      "| A5Y15SAOMX6XA|0000589012|   2.0|    1307404800|\n",
      "|A3P671HJ32TCSF|0000589012|   5.0|    1393718400|\n",
      "|A3VCKTRD24BG7K|0000589012|   5.0|    1378425600|\n",
      "| ANF0AGIV0JCH2|0000589012|   5.0|    1308182400|\n",
      "|A3LDEBLV6MVUBE|0000589012|   5.0|    1208995200|\n",
      "|A1R2XZWQ6NM5M1|0000589012|   5.0|    1224979200|\n",
      "|A36L1XGA5AQIJY|0000589012|   1.0|    1393113600|\n",
      "|A2HWI21H23GDS4|0000589012|   4.0|    1338681600|\n",
      "|A1DNYFL3RSXRMO|0000589012|   5.0|    1208908800|\n",
      "|A39VF226GBM1JH|0000589012|   1.0|    1218412800|\n",
      "| ASB0E2O2FLNA7|0000589012|   5.0|    1322956800|\n",
      "|A19E15Y9V09CVJ|0000589012|   5.0|    1224806400|\n",
      "+--------------+----------+------+--------------+\n",
      "only showing top 20 rows\n",
      "\n"
     ]
    }
   ],
   "source": [
    "#Items of interest are ReviewerID and ProductID\n",
    "\n",
    "new_df.show()"
   ]
  },
  {
   "cell_type": "code",
   "execution_count": 14,
   "id": "c0b1de3a",
   "metadata": {},
   "outputs": [
    {
     "data": {
      "text/plain": [
       "[('ReviewerID', 'string'),\n",
       " ('ProductID', 'string'),\n",
       " ('Rating', 'string'),\n",
       " ('unixReviewTime', 'string')]"
      ]
     },
     "execution_count": 14,
     "metadata": {},
     "output_type": "execute_result"
    }
   ],
   "source": [
    "new_df.dtypes"
   ]
  },
  {
   "cell_type": "code",
   "execution_count": 15,
   "id": "3053805c",
   "metadata": {
    "tags": []
   },
   "outputs": [
    {
     "name": "stdout",
     "output_type": "stream",
     "text": [
      "+----------+---------+------+--------------+\n",
      "|ReviewerID|ProductID|Rating|unixReviewTime|\n",
      "+----------+---------+------+--------------+\n",
      "|      null|   143502|   5.0|    1358380800|\n",
      "|      null|   143529|   5.0|    1380672000|\n",
      "|      null|   143561|   2.0|    1216252800|\n",
      "|      null|   143588|   5.0|    1236902400|\n",
      "|      null|   143588|   5.0|    1232236800|\n",
      "|      null|   589012|   5.0|    1309651200|\n",
      "|      null|   589012|   2.0|    1366675200|\n",
      "|      null|   589012|   5.0|    1393804800|\n",
      "|      null|   589012|   2.0|    1307404800|\n",
      "|      null|   589012|   5.0|    1393718400|\n",
      "|      null|   589012|   5.0|    1378425600|\n",
      "|      null|   589012|   5.0|    1308182400|\n",
      "|      null|   589012|   5.0|    1208995200|\n",
      "|      null|   589012|   5.0|    1224979200|\n",
      "|      null|   589012|   1.0|    1393113600|\n",
      "|      null|   589012|   4.0|    1338681600|\n",
      "|      null|   589012|   5.0|    1208908800|\n",
      "|      null|   589012|   1.0|    1218412800|\n",
      "|      null|   589012|   5.0|    1322956800|\n",
      "|      null|   589012|   5.0|    1224806400|\n",
      "+----------+---------+------+--------------+\n",
      "only showing top 20 rows\n",
      "\n"
     ]
    }
   ],
   "source": [
    "new_df = new_df.withColumn(\"ReviewerID\", new_df[\"ReviewerID\"].cast(IntegerType()))\n",
    "new_df = new_df.withColumn(\"ProductID\", new_df[\"ProductID\"].cast(IntegerType()))\n",
    "new_df = new_df.withColumn(\"Rating\", new_df[\"Rating\"].cast(DoubleType()))\n",
    "new_df = new_df.withColumn(\"unixReviewTime\", new_df[\"unixReviewTime\"].cast(IntegerType()))\n",
    "\n",
    "new_df.show()"
   ]
  },
  {
   "cell_type": "code",
   "execution_count": 16,
   "id": "05023234",
   "metadata": {
    "tags": []
   },
   "outputs": [],
   "source": [
    "# Sourced from: https://stackoverflow.com/questions/44153575/fill-na-with-random-numbers-in-pyspark\n",
    "\n",
    "new_df = new_df.withColumn('ReviewerID', F.coalesce(F.col('ReviewerID'), \n",
    "                                                (F.round(F.rand()*70000)))).collect()\n",
    "new_df = spark.createDataFrame(new_df)"
   ]
  },
  {
   "cell_type": "code",
   "execution_count": 17,
   "id": "66f85406",
   "metadata": {},
   "outputs": [
    {
     "name": "stdout",
     "output_type": "stream",
     "text": [
      "+----------+---------+------+--------------+\n",
      "|ReviewerID|ProductID|Rating|unixReviewTime|\n",
      "+----------+---------+------+--------------+\n",
      "|    5880.0|   143502|   5.0|    1358380800|\n",
      "|   34719.0|   143529|   5.0|    1380672000|\n",
      "|   57419.0|   143561|   2.0|    1216252800|\n",
      "|   11312.0|   143588|   5.0|    1236902400|\n",
      "|   26280.0|   143588|   5.0|    1232236800|\n",
      "|   19783.0|   589012|   5.0|    1309651200|\n",
      "|   27083.0|   589012|   2.0|    1366675200|\n",
      "|   48798.0|   589012|   5.0|    1393804800|\n",
      "|   49507.0|   589012|   2.0|    1307404800|\n",
      "|     198.0|   589012|   5.0|    1393718400|\n",
      "|   52916.0|   589012|   5.0|    1378425600|\n",
      "|   40612.0|   589012|   5.0|    1308182400|\n",
      "|    7960.0|   589012|   5.0|    1208995200|\n",
      "|   10541.0|   589012|   5.0|    1224979200|\n",
      "|   18935.0|   589012|   1.0|    1393113600|\n",
      "|   53927.0|   589012|   4.0|    1338681600|\n",
      "|   35594.0|   589012|   5.0|    1208908800|\n",
      "|   54822.0|   589012|   1.0|    1218412800|\n",
      "|   39938.0|   589012|   5.0|    1322956800|\n",
      "|   68044.0|   589012|   5.0|    1224806400|\n",
      "+----------+---------+------+--------------+\n",
      "only showing top 20 rows\n",
      "\n"
     ]
    }
   ],
   "source": [
    "new_df.show()"
   ]
  },
  {
   "cell_type": "code",
   "execution_count": 18,
   "id": "68047f03",
   "metadata": {
    "tags": []
   },
   "outputs": [],
   "source": [
    "new_df = new_df.withColumn(\"ReviewerID\", new_df[\"ReviewerID\"].cast(IntegerType()))\n",
    "new_df = new_df.withColumn(\"ProductID\", new_df[\"ProductID\"].cast(IntegerType()))\n",
    "new_df = new_df.withColumn(\"Rating\", new_df[\"Rating\"].cast(DoubleType()))\n",
    "new_df = new_df.withColumn(\"unixReviewTime\", new_df[\"unixReviewTime\"].cast(IntegerType()))"
   ]
  },
  {
   "cell_type": "code",
   "execution_count": 19,
   "id": "1a738361",
   "metadata": {},
   "outputs": [
    {
     "data": {
      "text/plain": [
       "[('ReviewerID', 'int'),\n",
       " ('ProductID', 'int'),\n",
       " ('Rating', 'double'),\n",
       " ('unixReviewTime', 'int')]"
      ]
     },
     "execution_count": 19,
     "metadata": {},
     "output_type": "execute_result"
    }
   ],
   "source": [
    "new_df.dtypes"
   ]
  },
  {
   "cell_type": "code",
   "execution_count": 20,
   "id": "a754874a",
   "metadata": {},
   "outputs": [
    {
     "name": "stdout",
     "output_type": "stream",
     "text": [
      "+----------+---------+------+--------------+\n",
      "|ReviewerID|ProductID|Rating|unixReviewTime|\n",
      "+----------+---------+------+--------------+\n",
      "|      5880|   143502|   5.0|    1358380800|\n",
      "|     34719|   143529|   5.0|    1380672000|\n",
      "|     57419|   143561|   2.0|    1216252800|\n",
      "|     11312|   143588|   5.0|    1236902400|\n",
      "|     26280|   143588|   5.0|    1232236800|\n",
      "|     19783|   589012|   5.0|    1309651200|\n",
      "|     27083|   589012|   2.0|    1366675200|\n",
      "|     48798|   589012|   5.0|    1393804800|\n",
      "|     49507|   589012|   2.0|    1307404800|\n",
      "|       198|   589012|   5.0|    1393718400|\n",
      "|     52916|   589012|   5.0|    1378425600|\n",
      "|     40612|   589012|   5.0|    1308182400|\n",
      "|      7960|   589012|   5.0|    1208995200|\n",
      "|     10541|   589012|   5.0|    1224979200|\n",
      "|     18935|   589012|   1.0|    1393113600|\n",
      "|     53927|   589012|   4.0|    1338681600|\n",
      "|     35594|   589012|   5.0|    1208908800|\n",
      "|     54822|   589012|   1.0|    1218412800|\n",
      "|     39938|   589012|   5.0|    1322956800|\n",
      "|     68044|   589012|   5.0|    1224806400|\n",
      "+----------+---------+------+--------------+\n",
      "only showing top 20 rows\n",
      "\n"
     ]
    }
   ],
   "source": [
    "new_df.show()"
   ]
  },
  {
   "cell_type": "code",
   "execution_count": 21,
   "id": "512e69a2",
   "metadata": {},
   "outputs": [],
   "source": [
    "del(df)"
   ]
  },
  {
   "cell_type": "code",
   "execution_count": 22,
   "id": "a463a74f",
   "metadata": {},
   "outputs": [],
   "source": [
    "# COLLABORATIVE FILTERING \n",
    "\n",
    "from pyspark.ml.evaluation import RegressionEvaluator\n",
    "from pyspark.ml.recommendation import ALS\n",
    "from pyspark.ml.tuning import TrainValidationSplit, ParamGridBuilder"
   ]
  },
  {
   "cell_type": "code",
   "execution_count": 23,
   "id": "b6beb2ca",
   "metadata": {},
   "outputs": [],
   "source": [
    "(training, test) = new_df.randomSplit([0.8, 0.2])"
   ]
  },
  {
   "cell_type": "code",
   "execution_count": 24,
   "id": "30652241",
   "metadata": {},
   "outputs": [
    {
     "name": "stdout",
     "output_type": "stream",
     "text": [
      "+----------+---------+------+--------------+\n",
      "|ReviewerID|ProductID|Rating|unixReviewTime|\n",
      "+----------+---------+------+--------------+\n",
      "+----------+---------+------+--------------+\n",
      "\n",
      "+----------+---------+------+--------------+\n",
      "|ReviewerID|ProductID|Rating|unixReviewTime|\n",
      "+----------+---------+------+--------------+\n",
      "|       299|     null|   5.0|    1335657600|\n",
      "|       613|     null|   3.0|    1330041600|\n",
      "|       620|     null|   4.0|    1375574400|\n",
      "|      1399|     null|   5.0|    1371686400|\n",
      "|      1863|     null|   5.0|    1224806400|\n",
      "|      1889|     null|   5.0|    1244419200|\n",
      "|      2280|     null|   5.0|    1233705600|\n",
      "|      2406|     null|   5.0|    1222300800|\n",
      "|      2927|     null|   5.0|    1272240000|\n",
      "|      3531|     null|   5.0|    1222473600|\n",
      "|      3936|     null|   5.0|    1379030400|\n",
      "|      3990|     null|   5.0|    1235001600|\n",
      "|      4146|     null|   5.0|    1272585600|\n",
      "|      4470|     null|   4.0|    1294099200|\n",
      "|      4881|     null|   5.0|    1323216000|\n",
      "|      5061|     null|   5.0|    1370390400|\n",
      "|      5453|     null|   5.0|    1235088000|\n",
      "|      6134|     null|   5.0|    1272672000|\n",
      "|      6480|     null|   5.0|    1272672000|\n",
      "|      7110|     null|   5.0|    1391644800|\n",
      "+----------+---------+------+--------------+\n",
      "only showing top 20 rows\n",
      "\n",
      "+----------+---------+------+--------------+\n",
      "|ReviewerID|ProductID|Rating|unixReviewTime|\n",
      "+----------+---------+------+--------------+\n",
      "+----------+---------+------+--------------+\n",
      "\n",
      "+----------+---------+------+--------------+\n",
      "|ReviewerID|ProductID|Rating|unixReviewTime|\n",
      "+----------+---------+------+--------------+\n",
      "+----------+---------+------+--------------+\n",
      "\n"
     ]
    }
   ],
   "source": [
    "training.filter(\"ReviewerID is NULL\").show()\n",
    "training.filter(\"ProductID is NULL\").show()\n",
    "training.filter(\"Rating is NULL\").show()\n",
    "training.filter(\"UnixReviewTime is NULL\").show()"
   ]
  },
  {
   "cell_type": "code",
   "execution_count": 25,
   "id": "2b99bd0f",
   "metadata": {},
   "outputs": [
    {
     "name": "stdout",
     "output_type": "stream",
     "text": [
      "+----------+---------+------+--------------+\n",
      "|ReviewerID|ProductID|Rating|unixReviewTime|\n",
      "+----------+---------+------+--------------+\n",
      "+----------+---------+------+--------------+\n",
      "\n",
      "+----------+---------+------+--------------+\n",
      "|ReviewerID|ProductID|Rating|unixReviewTime|\n",
      "+----------+---------+------+--------------+\n",
      "|      2299|     null|   4.0|    1271635200|\n",
      "|      5555|     null|   5.0|    1272672000|\n",
      "|      7518|     null|   5.0|    1225843200|\n",
      "|      9142|     null|   5.0|    1222300800|\n",
      "|      9410|     null|   5.0|    1222387200|\n",
      "|      9436|     null|   5.0|    1008547200|\n",
      "|     10502|     null|   5.0|    1404259200|\n",
      "|     12043|     null|   5.0|    1235001600|\n",
      "|     12762|     null|   5.0|    1336780800|\n",
      "|     12899|     null|   5.0|    1398384000|\n",
      "|     15592|     null|   4.0|    1324598400|\n",
      "|     16231|     null|   5.0|    1260316800|\n",
      "|     16780|     null|   5.0|    1222300800|\n",
      "|     16823|     null|   5.0|    1390003200|\n",
      "|     18244|     null|   5.0|    1333584000|\n",
      "|     21107|     null|   5.0|    1221868800|\n",
      "|     21701|     null|   5.0|    1282176000|\n",
      "|     22069|     null|   5.0|    1272585600|\n",
      "|     27127|     null|   5.0|    1325030400|\n",
      "|     27612|     null|   5.0|    1222732800|\n",
      "+----------+---------+------+--------------+\n",
      "only showing top 20 rows\n",
      "\n",
      "+----------+---------+------+--------------+\n",
      "|ReviewerID|ProductID|Rating|unixReviewTime|\n",
      "+----------+---------+------+--------------+\n",
      "+----------+---------+------+--------------+\n",
      "\n",
      "+----------+---------+------+--------------+\n",
      "|ReviewerID|ProductID|Rating|unixReviewTime|\n",
      "+----------+---------+------+--------------+\n",
      "+----------+---------+------+--------------+\n",
      "\n"
     ]
    }
   ],
   "source": [
    "test.filter(\"ReviewerID is NULL\").show()\n",
    "test.filter(\"ProductID is NULL\").show()\n",
    "test.filter(\"Rating is NULL\").show()\n",
    "test.filter(\"unixReviewTime is NULL\").show()"
   ]
  },
  {
   "cell_type": "code",
   "execution_count": 26,
   "id": "67b1bab2",
   "metadata": {},
   "outputs": [],
   "source": [
    "training = training.dropna()\n",
    "test = test.dropna()"
   ]
  },
  {
   "cell_type": "code",
   "execution_count": 27,
   "id": "f75205f5",
   "metadata": {
    "tags": []
   },
   "outputs": [],
   "source": [
    "als = ALS(maxIter=5, regParam=0.1, userCol=\"ReviewerID\", itemCol=\"ProductID\", ratingCol=\"Rating\",\n",
    "          coldStartStrategy=\"drop\")\n",
    "model = als.fit(training)"
   ]
  },
  {
   "cell_type": "code",
   "execution_count": 28,
   "id": "31c0c11e",
   "metadata": {},
   "outputs": [],
   "source": [
    "param_grid = ParamGridBuilder()\\\n",
    ".addGrid(als.rank, [12, 13, 14])\\\n",
    ".addGrid(als.maxIter, [18, 19, 20])\\\n",
    ".addGrid(als.regParam, [.17, .18, .19])\\\n",
    ".build()"
   ]
  },
  {
   "cell_type": "code",
   "execution_count": 29,
   "id": "10241869",
   "metadata": {},
   "outputs": [],
   "source": [
    "evaluator = RegressionEvaluator(metricName=\"rmse\", labelCol=\"Rating\", \n",
    "                                predictionCol=\"prediction\")"
   ]
  },
  {
   "cell_type": "code",
   "execution_count": 30,
   "id": "34cead73",
   "metadata": {},
   "outputs": [],
   "source": [
    "tvs = TrainValidationSplit(estimator=als, estimatorParamMaps=param_grid,\n",
    "                          evaluator=evaluator)"
   ]
  },
  {
   "cell_type": "code",
   "execution_count": 31,
   "id": "ef1d74a4",
   "metadata": {},
   "outputs": [],
   "source": [
    "model = tvs.fit(training)"
   ]
  },
  {
   "cell_type": "code",
   "execution_count": 32,
   "id": "6c63d1d5",
   "metadata": {},
   "outputs": [],
   "source": [
    "best_model = model.bestModel"
   ]
  },
  {
   "cell_type": "code",
   "execution_count": 33,
   "id": "687bd57d",
   "metadata": {},
   "outputs": [],
   "source": [
    "predictions = best_model.transform(test)\n",
    "rmse = evaluator.evaluate(predictions)"
   ]
  },
  {
   "cell_type": "code",
   "execution_count": 34,
   "id": "d0e8f6bf",
   "metadata": {},
   "outputs": [
    {
     "name": "stdout",
     "output_type": "stream",
     "text": [
      "RMSE = 1.9129475852576983\n",
      "**BEST MODEL**\n",
      "Rank:  12\n",
      "MaxIter:  20\n",
      "RegParam:  0.19\n"
     ]
    }
   ],
   "source": [
    "print(\"RMSE = \" + str(rmse))\n",
    "print(\"**BEST MODEL**\")\n",
    "print(\"Rank: \", best_model.rank)\n",
    "print(\"MaxIter: \", best_model._java_obj.parent().getMaxIter())\n",
    "print(\"RegParam: \", best_model._java_obj.parent().getRegParam())"
   ]
  },
  {
   "cell_type": "code",
   "execution_count": 35,
   "id": "2f5ce1cf",
   "metadata": {},
   "outputs": [
    {
     "data": {
      "text/html": [
       "<table border='1'>\n",
       "<tr><th>ReviewerID</th><th>ProductID</th><th>Rating</th><th>unixReviewTime</th><th>prediction</th></tr>\n",
       "<tr><td>2</td><td>767853946</td><td>5.0</td><td>1404432000</td><td>2.8639176</td></tr>\n",
       "<tr><td>4</td><td>767830520</td><td>5.0</td><td>1078876800</td><td>3.52406</td></tr>\n",
       "<tr><td>7</td><td>767810856</td><td>4.0</td><td>1383782400</td><td>3.7566168</td></tr>\n",
       "<tr><td>19</td><td>767832485</td><td>4.0</td><td>957312000</td><td>3.4473715</td></tr>\n",
       "<tr><td>22</td><td>767805712</td><td>5.0</td><td>1179360000</td><td>3.736113</td></tr>\n",
       "<tr><td>31</td><td>767806808</td><td>5.0</td><td>996969600</td><td>3.558663</td></tr>\n",
       "<tr><td>42</td><td>780619765</td><td>5.0</td><td>1340496000</td><td>0.79268634</td></tr>\n",
       "<tr><td>47</td><td>767802497</td><td>5.0</td><td>1360540800</td><td>2.8590975</td></tr>\n",
       "<tr><td>50</td><td>767809246</td><td>5.0</td><td>1075248000</td><td>3.7837179</td></tr>\n",
       "<tr><td>50</td><td>767802470</td><td>5.0</td><td>1392249600</td><td>3.9071658</td></tr>\n",
       "<tr><td>53</td><td>780622545</td><td>5.0</td><td>1327449600</td><td>3.044148</td></tr>\n",
       "<tr><td>65</td><td>780020634</td><td>4.0</td><td>1221004800</td><td>3.1701238</td></tr>\n",
       "<tr><td>72</td><td>767839277</td><td>5.0</td><td>1397865600</td><td>3.4721713</td></tr>\n",
       "<tr><td>74</td><td>780022823</td><td>5.0</td><td>1370822400</td><td>4.0586233</td></tr>\n",
       "<tr><td>77</td><td>767821920</td><td>4.0</td><td>1264809600</td><td>3.5101044</td></tr>\n",
       "<tr><td>80</td><td>780622588</td><td>5.0</td><td>912211200</td><td>3.457209</td></tr>\n",
       "<tr><td>84</td><td>767853636</td><td>5.0</td><td>1389484800</td><td>1.2741165</td></tr>\n",
       "<tr><td>87</td><td>780020685</td><td>5.0</td><td>1352851200</td><td>0.79240376</td></tr>\n",
       "<tr><td>97</td><td>767026128</td><td>1.0</td><td>1162425600</td><td>2.2817876</td></tr>\n",
       "<tr><td>102</td><td>767812166</td><td>5.0</td><td>1390780800</td><td>4.4421067</td></tr>\n",
       "</table>\n",
       "only showing top 20 rows\n"
      ],
      "text/plain": [
       "+----------+---------+------+--------------+----------+\n",
       "|ReviewerID|ProductID|Rating|unixReviewTime|prediction|\n",
       "+----------+---------+------+--------------+----------+\n",
       "|         2|767853946|   5.0|    1404432000| 2.8639176|\n",
       "|         4|767830520|   5.0|    1078876800|   3.52406|\n",
       "|         7|767810856|   4.0|    1383782400| 3.7566168|\n",
       "|        19|767832485|   4.0|     957312000| 3.4473715|\n",
       "|        22|767805712|   5.0|    1179360000|  3.736113|\n",
       "|        31|767806808|   5.0|     996969600|  3.558663|\n",
       "|        42|780619765|   5.0|    1340496000|0.79268634|\n",
       "|        47|767802497|   5.0|    1360540800| 2.8590975|\n",
       "|        50|767802470|   5.0|    1392249600| 3.9071658|\n",
       "|        50|767809246|   5.0|    1075248000| 3.7837179|\n",
       "|        53|780622545|   5.0|    1327449600|  3.044148|\n",
       "|        65|780020634|   4.0|    1221004800| 3.1701238|\n",
       "|        72|767839277|   5.0|    1397865600| 3.4721713|\n",
       "|        74|780022823|   5.0|    1370822400| 4.0586233|\n",
       "|        77|767821920|   4.0|    1264809600| 3.5101044|\n",
       "|        80|780622588|   5.0|     912211200|  3.457209|\n",
       "|        84|767853636|   5.0|    1389484800| 1.2741165|\n",
       "|        87|780020685|   5.0|    1352851200|0.79240376|\n",
       "|        97|767026128|   1.0|    1162425600| 2.2817876|\n",
       "|       102|767812166|   5.0|    1390780800| 4.4421067|\n",
       "+----------+---------+------+--------------+----------+\n",
       "only showing top 20 rows"
      ]
     },
     "metadata": {},
     "output_type": "display_data"
    }
   ],
   "source": [
    "display(predictions.sort(\"ReviewerID\", \"Rating\"))"
   ]
  },
  {
   "cell_type": "code",
   "execution_count": 42,
   "id": "1aa46fa1",
   "metadata": {},
   "outputs": [],
   "source": [
    "predictions_df = predictions.toPandas()\n",
    "\n",
    "predictions_df.to_csv('/home/luca/Dropbox/predictions.csv')"
   ]
  },
  {
   "cell_type": "code",
   "execution_count": null,
   "id": "1594c423",
   "metadata": {},
   "outputs": [],
   "source": []
  }
 ],
 "metadata": {
  "kernelspec": {
   "display_name": "Python 3",
   "language": "python",
   "name": "python3"
  },
  "language_info": {
   "codemirror_mode": {
    "name": "ipython",
    "version": 3
   },
   "file_extension": ".py",
   "mimetype": "text/x-python",
   "name": "python",
   "nbconvert_exporter": "python",
   "pygments_lexer": "ipython3",
   "version": "3.9.2"
  }
 },
 "nbformat": 4,
 "nbformat_minor": 5
}
