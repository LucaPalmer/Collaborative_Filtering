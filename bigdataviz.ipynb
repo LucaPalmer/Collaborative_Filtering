{
 "cells": [
  {
   "cell_type": "code",
   "execution_count": null,
   "id": "79da0ac6-a899-4a29-a94e-a4a91eae6fa1",
   "metadata": {},
   "outputs": [],
   "source": [
    "# This notebook contains all visualisations that were not made in Tableau"
   ]
  },
  {
   "cell_type": "code",
   "execution_count": null,
   "id": "55ddecf9",
   "metadata": {},
   "outputs": [],
   "source": [
    "import numpy as np\n",
    "import pandas as pd\n",
    "import matplotlib.pyplot as plt\n",
    "import seaborn as sns\n",
    "from mpl_toolkits.mplot3d import axes3d\n",
    "\n",
    "import datetime\n",
    "\n",
    "\"\"\"\n",
    "ipympl must be installed using pip first for interactive 3D Plot:\n",
    "Then command below must be ran\n",
    "%matplotlib widget\n",
    "\"\"\"\n"
   ]
  },
  {
   "cell_type": "code",
   "execution_count": null,
   "id": "0a04e1ac",
   "metadata": {},
   "outputs": [],
   "source": [
    "df_viz = pd.read_csv('/home/luca/Documents/df_viz_20000.csv', sep=',')\n",
    "df_viz = df_viz.drop('Unnamed: 0', axis=1)"
   ]
  },
  {
   "cell_type": "code",
   "execution_count": null,
   "id": "ed6b74a5",
   "metadata": {},
   "outputs": [],
   "source": [
    "# Function taken and modified from: https://stackoverflow.com/questions/45478161/function-to-convert-unix-timestamp-in-bulk-in-python\n",
    "# Used to convert Unix Timestamp to Datetime \n",
    "\"\"\"\n",
    "def unix_to_dt(timestamp_collection):\n",
    "    return [datetime.datetime.fromtimestamp(int(timestamp)).strftime('%Y-%m %H:%M') for timestamp in timestamp_collection]\n",
    "\n",
    "df_viz['unixReviewTime'] = unix_to_dt(df_viz['unixReviewTime'])\n",
    "\"\"\""
   ]
  },
  {
   "cell_type": "code",
   "execution_count": null,
   "id": "61c10bec",
   "metadata": {
    "tags": []
   },
   "outputs": [],
   "source": [
    "# ipympl is required for interactive 3D visualisation\n",
    "\n",
    "fig = plt.figure(figsize=[6, 10])\n",
    "ax = fig.add_subplot(111, projection = '3d')\n",
    "\n",
    "x = df_viz.index\n",
    "y = df_viz['unixReviewTime']\n",
    "z = df_viz['Rating']\n",
    "\n",
    "ax.set_xlabel(\"ReviewID\")\n",
    "ax.set_ylabel(\"Time of Review\")\n",
    "ax.set_zlabel(\"Rating\")\n",
    "\n",
    "ax.set_xticks([0, 10000, 20000])  \n",
    "ax.set_zticks([0, 1, 2, 3, 4, 5]) \n",
    "\n",
    "ax.scatter(x, y, z, s=0.5, color='red')\n",
    "\n",
    "plt.show()\n"
   ]
  },
  {
   "cell_type": "code",
   "execution_count": null,
   "id": "dc322239",
   "metadata": {},
   "outputs": [],
   "source": [
    "\"\"\"df_viz['Rating'] = df_viz['Rating'].sort_values(ascending=False)\n",
    "df_viz = df_viz[1:50]\"\"\""
   ]
  },
  {
   "cell_type": "code",
   "execution_count": null,
   "id": "1030c79c-fe75-4fcf-96b3-007e8d56b340",
   "metadata": {},
   "outputs": [],
   "source": [
    "pred_df = pd.read_csv(\"D:/Documents/predictions_20000.csv\")"
   ]
  },
  {
   "cell_type": "code",
   "execution_count": null,
   "id": "02e8c5ad",
   "metadata": {},
   "outputs": [],
   "source": [
    "sns.violinplot(x = pred_df['Rating'], y = pred_df['prediction'], df=pred_df)"
   ]
  },
  {
   "cell_type": "code",
   "execution_count": null,
   "id": "265dbc24-2dff-4ac1-b736-77b0e07b7ab7",
   "metadata": {},
   "outputs": [],
   "source": []
  }
 ],
 "metadata": {
  "kernelspec": {
   "display_name": "Python 3",
   "language": "python",
   "name": "python3"
  },
  "language_info": {
   "codemirror_mode": {
    "name": "ipython",
    "version": 3
   },
   "file_extension": ".py",
   "mimetype": "text/x-python",
   "name": "python",
   "nbconvert_exporter": "python",
   "pygments_lexer": "ipython3",
   "version": "3.7.10"
  }
 },
 "nbformat": 4,
 "nbformat_minor": 5
}
